{
 "cells": [
  {
   "cell_type": "code",
   "execution_count": 1,
   "metadata": {},
   "outputs": [
    {
     "name": "stdout",
     "output_type": "stream",
     "text": [
      "22\n",
      "[0, 1, 2, 3, 4, 5]\n"
     ]
    }
   ],
   "source": [
    "from compas.geometry import Point, Vector, Frame, Box, close\n",
    "\n",
    "from scipy.spatial import cKDTree\n",
    "\n",
    "boxes = [Box(4.5, 9.5, 3.0, Frame(Point(2.250, 4.750, 1.500), Vector(1.000, 0.000, 0.000), Vector(0.000, 1.000, 0.000))),\n",
    "#Box(3.0, 5.0, 3.0, Frame(Point(1.500, 2.500, 1.500), Vector(1.000, 0.000, 0.000), Vector(0.000, 1.000, 0.000))),\n",
    "]\n",
    "#Box(8.0, 4.5, 3.0, Frame(Point(4.000, 2.250, 1.500), Vector(1.000, 0.000, 0.000), Vector(0.000, 1.000, 0.000))),\n",
    "#Box(5.0, 5.0, 3.0, Frame(Point(2.500, 2.500, 1.500), Vector(1.000, 0.000, 0.000), Vector(0.000, 1.000, 0.000))),\n",
    "#Box(7.5, 6.5, 3.0, Frame(Point(3.750, 3.250, 4.50), Vector(1.000, 0.000, 0.000), Vector(0.000, 1.000, 0.000))),\n",
    "#Box(5.0, 6.5, 3.0, Frame(Point(2.500, 3.250, 4.50), Vector(1.000, 0.000, 0.000), Vector(0.000, 1.000, 0.000)))]\n",
    "\n",
    "tt_faces = [[Point(5.000, 8.000, 6.000), Point(0.000, 8.000, 6.000), Point(5.000, 3.000, 6.000), Point(0.000, 3.000, 6.000)],\n",
    "[Point(14.500, -1.500, 6.000), Point(14.500, -1.500, 3.000), Point(12.500, -1.500, 6.000), Point(12.500, -1.500, 3.000)],\n",
    "[Point(12.500, -1.500, 6.000), Point(12.500, 8.000, 6.000), Point(14.500, 8.000, 6.000), Point(14.500, -1.500, 6.000), Point(12.500, -1.500, 6.000)],\n",
    "[Point(12.500, -1.500, 3.000), Point(12.500, 8.000, 3.000), Point(14.500, 8.000, 3.000), Point(14.500, -1.500, 3.000), Point(12.500, -1.500, 3.000)],\n",
    "[Point(14.500, 8.000, 4.200), Point(14.500, 8.000, 3.000), Point(14.500, -1.500, 4.200), Point(14.500, -1.500, 3.000)],\n",
    "[Point(12.500, 8.000, 6.000), Point(12.500, 8.000, 3.000), Point(14.500, 8.000, 6.000), Point(14.500, 8.000, 3.000)],\n",
    "]\n",
    "\n",
    "points = []\n",
    "for box in boxes:\n",
    "    for pt in box.to_vertices_and_faces()[0]:\n",
    "        if not len(points):\n",
    "            points.append(pt)\n",
    "            continue\n",
    "\n",
    "        tree = cKDTree(points)\n",
    "        d, idx = tree.query(pt, k=1)\n",
    "        if close(d, 0, 1e-3):\n",
    "            pass\n",
    "        else:\n",
    "            points.append(pt)\n",
    "\n",
    "for face in tt_faces:\n",
    "    for pt in face:\n",
    "        tree = cKDTree(points)\n",
    "        d, idx = tree.query(pt, k=1)\n",
    "        if close(d, 0, 1e-3):\n",
    "            pass\n",
    "        else:\n",
    "            points.append(pt)\n",
    "\n",
    "print(len(points))\n",
    "tree = cKDTree(points)\n",
    "\n",
    "from compas.datastructures import CellNetwork\n",
    "\n",
    "network = CellNetwork()\n",
    "\n",
    "for i, (x, y, z) in enumerate(points):\n",
    "    network.add_vertex(key=i, x=x, y=y, z=z)\n",
    "\n",
    "for box in boxes:\n",
    "    verts, faces = box.to_vertices_and_faces()\n",
    "    fidxs = []\n",
    "    for face in faces:\n",
    "        nface = []\n",
    "        for idx in face:\n",
    "            pt = verts[idx]\n",
    "            d, ni = tree.query(pt, k=1)\n",
    "            nface.append(ni)\n",
    "        fidx = None\n",
    "        for face in network.faces():\n",
    "            if set( network.face_vertices(face)) == set(nface):\n",
    "                fidx = face\n",
    "                break\n",
    "        else:\n",
    "            fidx = network.add_face(nface)\n",
    "        fidxs.append(fidx)\n",
    "    network.add_cell(fidxs)\n",
    "    print(fidxs)\n",
    "\n",
    "\n",
    "for face in tt_faces:\n",
    "\n",
    "    nface = []\n",
    "    for pt in face:\n",
    "        d, ni = tree.query(pt, k=1)\n",
    "        nface.append(ni)\n",
    "\n",
    "    fidx = None\n",
    "    for face in network.faces():\n",
    "        if set( network.face_vertices(face)) == set(nface):\n",
    "            fidx = face\n",
    "            break\n",
    "    else:\n",
    "        fidx = network.add_face(nface)\n",
    "\n",
    "\n",
    "\n",
    "\n",
    "\"\"\"\n",
    " [network.add_vertex(x=x, y=y, z=z) for x, y, z in vertices]\n",
    "    [network.add_edge(u, v) for u, v in edges]\n",
    "    [network.add_face(fverts) for fverts in faces]\n",
    "    [network.add_cell(fkeys) for fkeys in cells]\n",
    "\"\"\"\n",
    "network.to_json('/Users/romanarust/workspace/compas_dev/compas/docs/userguide/network.json')\n"
   ]
  },
  {
   "cell_type": "code",
   "execution_count": 2,
   "metadata": {},
   "outputs": [
    {
     "name": "stdout",
     "output_type": "stream",
     "text": [
      "[[0, 1, 2, 3], [0, 3, 5, 4], [3, 2, 6, 5], [2, 1, 7, 6], [1, 0, 4, 7], [4, 5, 6, 7]]\n",
      "<CellNetwork with 8 vertices, 6 faces, 1 cells, 12 edges>\n"
     ]
    }
   ],
   "source": [
    "from compas.geometry import Box\n",
    "from compas.datastructures import CellNetwork\n",
    "\n",
    "network = CellNetwork()\n",
    "\n",
    "vertices, faces = Box(1).to_vertices_and_faces()\n",
    "for x, y, z in vertices:\n",
    "    network.add_vertex(x=x, y=y, z=z)\n",
    "print(faces)\n",
    "fkeys = []\n",
    "for face in faces:\n",
    "    fkeys.append(network.add_face(face))\n",
    "network.add_cell(fkeys)\n",
    "\n",
    "\n",
    "print(network)\n",
    "\n",
    "    \n"
   ]
  },
  {
   "cell_type": "code",
   "execution_count": 7,
   "metadata": {},
   "outputs": [
    {
     "name": "stdout",
     "output_type": "stream",
     "text": [
      "8\n"
     ]
    },
    {
     "ename": "KeyError",
     "evalue": "0",
     "output_type": "error",
     "traceback": [
      "\u001b[0;31m---------------------------------------------------------------------------\u001b[0m",
      "\u001b[0;31mKeyError\u001b[0m                                  Traceback (most recent call last)",
      "Cell \u001b[0;32mIn[7], line 9\u001b[0m\n\u001b[1;32m      7\u001b[0m cells \u001b[38;5;241m=\u001b[39m [[\u001b[38;5;241m0\u001b[39m, \u001b[38;5;241m1\u001b[39m, \u001b[38;5;241m2\u001b[39m, \u001b[38;5;241m3\u001b[39m, \u001b[38;5;241m4\u001b[39m, \u001b[38;5;241m5\u001b[39m]]\n\u001b[1;32m      8\u001b[0m [network\u001b[38;5;241m.\u001b[39madd_vertex(x\u001b[38;5;241m=\u001b[39mx, y\u001b[38;5;241m=\u001b[39my, z\u001b[38;5;241m=\u001b[39mz) \u001b[38;5;28;01mfor\u001b[39;00m x, y, z \u001b[38;5;129;01min\u001b[39;00m vertices]\n\u001b[0;32m----> 9\u001b[0m [cell_network\u001b[38;5;241m.\u001b[39madd_face(fverts) \u001b[38;5;28;01mfor\u001b[39;00m fverts \u001b[38;5;129;01min\u001b[39;00m faces]\n\u001b[1;32m     10\u001b[0m [cell_network\u001b[38;5;241m.\u001b[39madd_cell(fkeys) \u001b[38;5;28;01mfor\u001b[39;00m fkeys \u001b[38;5;129;01min\u001b[39;00m cells]\n\u001b[1;32m     11\u001b[0m cell_network\n",
      "Cell \u001b[0;32mIn[7], line 9\u001b[0m, in \u001b[0;36m<listcomp>\u001b[0;34m(.0)\u001b[0m\n\u001b[1;32m      7\u001b[0m cells \u001b[38;5;241m=\u001b[39m [[\u001b[38;5;241m0\u001b[39m, \u001b[38;5;241m1\u001b[39m, \u001b[38;5;241m2\u001b[39m, \u001b[38;5;241m3\u001b[39m, \u001b[38;5;241m4\u001b[39m, \u001b[38;5;241m5\u001b[39m]]\n\u001b[1;32m      8\u001b[0m [network\u001b[38;5;241m.\u001b[39madd_vertex(x\u001b[38;5;241m=\u001b[39mx, y\u001b[38;5;241m=\u001b[39my, z\u001b[38;5;241m=\u001b[39mz) \u001b[38;5;28;01mfor\u001b[39;00m x, y, z \u001b[38;5;129;01min\u001b[39;00m vertices]\n\u001b[0;32m----> 9\u001b[0m [\u001b[43mcell_network\u001b[49m\u001b[38;5;241;43m.\u001b[39;49m\u001b[43madd_face\u001b[49m\u001b[43m(\u001b[49m\u001b[43mfverts\u001b[49m\u001b[43m)\u001b[49m \u001b[38;5;28;01mfor\u001b[39;00m fverts \u001b[38;5;129;01min\u001b[39;00m faces]\n\u001b[1;32m     10\u001b[0m [cell_network\u001b[38;5;241m.\u001b[39madd_cell(fkeys) \u001b[38;5;28;01mfor\u001b[39;00m fkeys \u001b[38;5;129;01min\u001b[39;00m cells]\n\u001b[1;32m     11\u001b[0m cell_network\n",
      "File \u001b[0;32m~/workspace/compas_dev/compas/src/compas/datastructures/cell_network/cell_network.py:714\u001b[0m, in \u001b[0;36mCellNetwork.add_face\u001b[0;34m(self, vertices, fkey, attr_dict, **kwattr)\u001b[0m\n\u001b[1;32m    711\u001b[0m     \u001b[38;5;28mself\u001b[39m\u001b[38;5;241m.\u001b[39mface_attribute(fkey, name, value)\n\u001b[1;32m    713\u001b[0m \u001b[38;5;28;01mfor\u001b[39;00m u, v \u001b[38;5;129;01min\u001b[39;00m pairwise(vertices \u001b[38;5;241m+\u001b[39m vertices[:\u001b[38;5;241m1\u001b[39m]):\n\u001b[0;32m--> 714\u001b[0m     \u001b[38;5;28;01mif\u001b[39;00m v \u001b[38;5;129;01mnot\u001b[39;00m \u001b[38;5;129;01min\u001b[39;00m \u001b[38;5;28;43mself\u001b[39;49m\u001b[38;5;241;43m.\u001b[39;49m\u001b[43m_plane\u001b[49m\u001b[43m[\u001b[49m\u001b[43mu\u001b[49m\u001b[43m]\u001b[49m:\n\u001b[1;32m    715\u001b[0m         \u001b[38;5;28mself\u001b[39m\u001b[38;5;241m.\u001b[39m_plane[u][v] \u001b[38;5;241m=\u001b[39m {}\n\u001b[1;32m    716\u001b[0m     \u001b[38;5;28mself\u001b[39m\u001b[38;5;241m.\u001b[39m_plane[u][v][fkey] \u001b[38;5;241m=\u001b[39m \u001b[38;5;28;01mNone\u001b[39;00m\n",
      "\u001b[0;31mKeyError\u001b[0m: 0"
     ]
    }
   ],
   "source": [
    "from compas.datastructures import CellNetwork\n",
    "cell_network = CellNetwork()\n",
    "vertices = [(0, 0, 0), (0, 1, 0), (1, 1, 0), (1, 0, 0), (0, 0, 1), (1, 0, 1), (1, 1, 1), (0, 1, 1)]\n",
    "\n",
    "print(len(vertices))\n",
    "faces = [[0, 1, 2, 3], [0, 3, 5, 4],[3, 2, 6, 5], [2, 1, 7, 6],[1, 0, 4, 7],[4, 5, 6, 7]]\n",
    "cells = [[0, 1, 2, 3, 4, 5]]\n",
    "[network.add_vertex(x=x, y=y, z=z) for x, y, z in vertices]\n",
    "[cell_network.add_face(fverts) for fverts in faces]\n",
    "[cell_network.add_cell(fkeys) for fkeys in cells]\n",
    "cell_network"
   ]
  },
  {
   "cell_type": "code",
   "execution_count": 2,
   "metadata": {},
   "outputs": [
    {
     "name": "stdout",
     "output_type": "stream",
     "text": [
      "PyThreeJS SceneObjects registered.\n",
      "No triangles found\n",
      "No triangles found\n",
      "No triangles found\n",
      "No triangles found\n"
     ]
    },
    {
     "data": {
      "application/vnd.jupyter.widget-view+json": {
       "model_id": "4d588dd468c842ebb17463175eb8cfcb",
       "version_major": 2,
       "version_minor": 0
      },
      "text/plain": [
       "VBox(children=(HBox(children=(Button(icon='folder-open', layout=Layout(height='32px', width='48px'), style=But…"
      ]
     },
     "metadata": {},
     "output_type": "display_data"
    }
   ],
   "source": [
    "from compas_notebook.viewer import Viewer\n",
    "viewer = Viewer()\n",
    "#viewer.scene.add(mesh, color='#cccccc')\n",
    "\n",
    "cell_network = network\n",
    "from compas.geometry import Polygon, Polyhedron\n",
    "\n",
    "opacity = 0.5\n",
    "\n",
    "\n",
    "\"\"\" \n",
    "for face in cell_network.faces_on_boundaries():\n",
    "    vertices = cell_network.face_coordinates(face)\n",
    "    viewer.scene.add(Polygon(vertices), color='#cccccc')\n",
    "\n",
    "\n",
    "for face in cell_network.faces_without_cell():\n",
    "    vertices = cell_network.face_coordinates(face)\n",
    "    viewer.scene.add(Polygon(vertices), color=\"#7d7eff\")\n",
    "\"\"\"\n",
    "\n",
    "for face in cell_network.faces():\n",
    "\n",
    "    vertices = cell_network.face_coordinates(face)\n",
    "    try:\n",
    "        viewer.scene.add(Polygon(vertices), color=\"#7d7eff\")\n",
    "    except:\n",
    "        print(face, vertices)\n",
    "\n",
    "\n",
    "\"\"\"\n",
    "for face in cell_network.faces():\n",
    "    cells = cell_network.face_cells(face)\n",
    "    vertices = cell_network.face_coordinates(face)\n",
    "\n",
    "    if not len(cells):\n",
    "        pass\n",
    "        # viewer.add(Polygon(vertices), facecolor=[0.5, 0.55, 1.0], opacity=opacity)\n",
    "\n",
    "    elif len(cells) == 2:\n",
    "        pass\n",
    "        # viewer.add(Polygon(vertices), facecolor=[1, 0.8, 0.05], opacity=opacity)\n",
    "    # break\n",
    "\"\"\"\n",
    "\n",
    "\n",
    "\n",
    "\n",
    "viewer.show()"
   ]
  }
 ],
 "metadata": {
  "kernelspec": {
   "display_name": "compas-dev",
   "language": "python",
   "name": "python3"
  },
  "language_info": {
   "codemirror_mode": {
    "name": "ipython",
    "version": 3
   },
   "file_extension": ".py",
   "mimetype": "text/x-python",
   "name": "python",
   "nbconvert_exporter": "python",
   "pygments_lexer": "ipython3",
   "version": "3.8.17"
  }
 },
 "nbformat": 4,
 "nbformat_minor": 2
}
