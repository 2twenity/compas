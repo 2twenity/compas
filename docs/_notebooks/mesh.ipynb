{
 "cells": [
  {
   "cell_type": "markdown",
   "metadata": {},
   "source": [
    "# Mesh"
   ]
  },
  {
   "cell_type": "markdown",
   "metadata": {},
   "source": [
    "**COMPAS** meshes are polygon meshes with support for n-sided polygonal faces. the meshes are presented using a half-edge data structure. In a half-edge data structure, each edge is composed of two half-edges with opposite orientation. Each half-edge is part of exactly one face, unless it is on the boundary. An edge is thus incident to at least one face and at most to two. The half-edges of a face form a continuous cycle, connecting the vertices of the face in a specific order forming a closed n-sided polygon. The ordering of the vertices determines the direction of its normal."
   ]
  },
  {
   "cell_type": "markdown",
   "metadata": {},
   "source": [
    "## Making a mesh"
   ]
  },
  {
   "cell_type": "code",
   "execution_count": 185,
   "metadata": {
    "collapsed": true
   },
   "outputs": [],
   "source": [
    "import compas\n",
    "from compas.datastructures import Mesh\n",
    "\n",
    "mesh = Mesh()"
   ]
  },
  {
   "cell_type": "markdown",
   "metadata": {},
   "source": [
    "## Adding vertices and faces"
   ]
  },
  {
   "cell_type": "code",
   "execution_count": 186,
   "metadata": {
    "collapsed": true
   },
   "outputs": [],
   "source": [
    "a = mesh.add_vertex()\n",
    "b = mesh.add_vertex(x=1.0)\n",
    "c = mesh.add_vertex(x=1.0, y=1.0)\n",
    "d = mesh.add_vertex(y=1.0)"
   ]
  },
  {
   "cell_type": "code",
   "execution_count": 187,
   "metadata": {
    "collapsed": true
   },
   "outputs": [],
   "source": [
    "f = mesh.add_face([a, b, c, d])"
   ]
  },
  {
   "cell_type": "markdown",
   "metadata": {},
   "source": [
    "**Note**\n",
    "\n",
    "Edges cannot be added explicitly. They are added automatically when faces are added."
   ]
  },
  {
   "cell_type": "markdown",
   "metadata": {},
   "source": [
    "## Identifiers\n",
    "\n",
    "All vertices of a mesh have a unique id, the *key* of the vertex. By default, keys are integers, and every vertex is assigned a unmbr corresponding to the order in which they are added. The number is always the highest number used so far, plus one.\n",
    "\n",
    "Keys can be assigned explicitly, as integers or as any other *hashable* type."
   ]
  },
  {
   "cell_type": "code",
   "execution_count": 188,
   "metadata": {},
   "outputs": [
    {
     "name": "stdout",
     "output_type": "stream",
     "text": [
      "0 <class 'int'>\n"
     ]
    }
   ],
   "source": [
    "print(a, type(a))"
   ]
  },
  {
   "cell_type": "code",
   "execution_count": 189,
   "metadata": {},
   "outputs": [
    {
     "data": {
      "text/plain": [
       "True"
      ]
     },
     "execution_count": 189,
     "metadata": {},
     "output_type": "execute_result"
    }
   ],
   "source": [
    "b == a + 1"
   ]
  },
  {
   "cell_type": "markdown",
   "metadata": {},
   "source": [
    "Faces are also assigned a unique id. As with vertices, keys are integers by default, but any other *hashable* type can be assigned explicitly."
   ]
  },
  {
   "cell_type": "code",
   "execution_count": 190,
   "metadata": {},
   "outputs": [
    {
     "name": "stdout",
     "output_type": "stream",
     "text": [
      "0 <class 'int'>\n"
     ]
    }
   ],
   "source": [
    "print(f, type(f))"
   ]
  },
  {
   "cell_type": "markdown",
   "metadata": {},
   "source": [
    "## Constructors\n",
    "\n",
    "Meshes can be constructed from data contained in files. Currently, the following formats are supported: ``obj``, ``ply``, ``stl``. **COMPAS** provides a set of sample files that can be used to develop new functionality, or simply to make examples like the ones in this tutorial."
   ]
  },
  {
   "cell_type": "code",
   "execution_count": 191,
   "metadata": {
    "collapsed": true
   },
   "outputs": [],
   "source": [
    "mesh = Mesh.from_obj(compas.get('faces.obj'))"
   ]
  },
  {
   "cell_type": "code",
   "execution_count": 192,
   "metadata": {
    "collapsed": true
   },
   "outputs": [],
   "source": [
    "# mesh = Mesh.from_ply(compas.get('bunny.ply'))\n",
    "# mesh = Mesh.from_stl(compas.get('cube.stl'))"
   ]
  },
  {
   "cell_type": "markdown",
   "metadata": {},
   "source": [
    "## Data\n",
    "\n",
    "All data accessors return objects that are meant to be iterated over (dictionary key iterators or generator objects). Storing the data in lists that can be reused multiple times must be done explicitly."
   ]
  },
  {
   "cell_type": "markdown",
   "metadata": {},
   "source": [
    "### Iteration"
   ]
  },
  {
   "cell_type": "code",
   "execution_count": 193,
   "metadata": {},
   "outputs": [
    {
     "data": {
      "text/plain": [
       "<dict_keyiterator at 0x616b893b8>"
      ]
     },
     "execution_count": 193,
     "metadata": {},
     "output_type": "execute_result"
    }
   ],
   "source": [
    "mesh.vertices()"
   ]
  },
  {
   "cell_type": "code",
   "execution_count": 194,
   "metadata": {},
   "outputs": [
    {
     "data": {
      "text/plain": [
       "<generator object Mesh.faces at 0x616ba98e0>"
      ]
     },
     "execution_count": 194,
     "metadata": {},
     "output_type": "execute_result"
    }
   ],
   "source": [
    "mesh.faces()"
   ]
  },
  {
   "cell_type": "code",
   "execution_count": 195,
   "metadata": {},
   "outputs": [
    {
     "data": {
      "text/plain": [
       "<generator object Mesh.edges at 0x616ba96d0>"
      ]
     },
     "execution_count": 195,
     "metadata": {},
     "output_type": "execute_result"
    }
   ],
   "source": [
    "mesh.edges()"
   ]
  },
  {
   "cell_type": "code",
   "execution_count": 196,
   "metadata": {},
   "outputs": [
    {
     "name": "stdout",
     "output_type": "stream",
     "text": [
      "0\n",
      "1\n",
      "2\n",
      "3\n",
      "4\n",
      "5\n",
      "6\n",
      "7\n",
      "8\n",
      "9\n",
      "10\n",
      "11\n",
      "12\n",
      "13\n",
      "14\n",
      "15\n",
      "16\n",
      "17\n",
      "18\n",
      "19\n",
      "20\n",
      "21\n",
      "22\n",
      "23\n",
      "24\n",
      "25\n",
      "26\n",
      "27\n",
      "28\n",
      "29\n",
      "30\n",
      "31\n",
      "32\n",
      "33\n",
      "34\n",
      "35\n"
     ]
    }
   ],
   "source": [
    "for key in mesh.vertices():\n",
    "    print(key)"
   ]
  },
  {
   "cell_type": "code",
   "execution_count": 197,
   "metadata": {},
   "outputs": [
    {
     "name": "stdout",
     "output_type": "stream",
     "text": [
      "0\n",
      "1\n",
      "2\n",
      "3\n",
      "4\n",
      "5\n",
      "6\n",
      "7\n",
      "8\n",
      "9\n",
      "10\n",
      "11\n",
      "12\n",
      "13\n",
      "14\n",
      "15\n",
      "16\n",
      "17\n",
      "18\n",
      "19\n",
      "20\n",
      "21\n",
      "22\n",
      "23\n",
      "24\n"
     ]
    }
   ],
   "source": [
    "for key in mesh.faces():\n",
    "    print(key)"
   ]
  },
  {
   "cell_type": "code",
   "execution_count": 198,
   "metadata": {},
   "outputs": [
    {
     "name": "stdout",
     "output_type": "stream",
     "text": [
      "(0, 1)\n",
      "(0, 6)\n",
      "(1, 7)\n",
      "(1, 2)\n",
      "(2, 8)\n",
      "(2, 3)\n",
      "(3, 9)\n",
      "(3, 4)\n",
      "(4, 10)\n",
      "(4, 5)\n",
      "(5, 11)\n",
      "(6, 7)\n",
      "(6, 12)\n",
      "(7, 8)\n",
      "(7, 13)\n",
      "(8, 9)\n",
      "(8, 14)\n",
      "(9, 10)\n",
      "(9, 15)\n",
      "(10, 11)\n",
      "(10, 16)\n",
      "(11, 17)\n",
      "(12, 13)\n",
      "(12, 18)\n",
      "(13, 14)\n",
      "(13, 19)\n",
      "(14, 15)\n",
      "(14, 20)\n",
      "(15, 16)\n",
      "(15, 21)\n",
      "(16, 17)\n",
      "(16, 22)\n",
      "(17, 23)\n",
      "(18, 19)\n",
      "(18, 24)\n",
      "(19, 20)\n",
      "(19, 25)\n",
      "(20, 21)\n",
      "(20, 26)\n",
      "(21, 22)\n",
      "(21, 27)\n",
      "(22, 23)\n",
      "(22, 28)\n",
      "(23, 29)\n",
      "(24, 25)\n",
      "(24, 30)\n",
      "(25, 26)\n",
      "(25, 31)\n",
      "(26, 27)\n",
      "(26, 32)\n",
      "(27, 28)\n",
      "(27, 33)\n",
      "(28, 29)\n",
      "(28, 34)\n",
      "(29, 35)\n",
      "(30, 31)\n",
      "(31, 32)\n",
      "(32, 33)\n",
      "(33, 34)\n",
      "(34, 35)\n"
     ]
    }
   ],
   "source": [
    "for key in mesh.edges():\n",
    "    print(key)"
   ]
  },
  {
   "cell_type": "markdown",
   "metadata": {},
   "source": [
    "### Lists"
   ]
  },
  {
   "cell_type": "code",
   "execution_count": 199,
   "metadata": {},
   "outputs": [
    {
     "data": {
      "text/plain": [
       "[0,\n",
       " 1,\n",
       " 2,\n",
       " 3,\n",
       " 4,\n",
       " 5,\n",
       " 6,\n",
       " 7,\n",
       " 8,\n",
       " 9,\n",
       " 10,\n",
       " 11,\n",
       " 12,\n",
       " 13,\n",
       " 14,\n",
       " 15,\n",
       " 16,\n",
       " 17,\n",
       " 18,\n",
       " 19,\n",
       " 20,\n",
       " 21,\n",
       " 22,\n",
       " 23,\n",
       " 24,\n",
       " 25,\n",
       " 26,\n",
       " 27,\n",
       " 28,\n",
       " 29,\n",
       " 30,\n",
       " 31,\n",
       " 32,\n",
       " 33,\n",
       " 34,\n",
       " 35]"
      ]
     },
     "execution_count": 199,
     "metadata": {},
     "output_type": "execute_result"
    }
   ],
   "source": [
    "list(mesh.vertices())"
   ]
  },
  {
   "cell_type": "code",
   "execution_count": 200,
   "metadata": {},
   "outputs": [
    {
     "data": {
      "text/plain": [
       "[0,\n",
       " 1,\n",
       " 2,\n",
       " 3,\n",
       " 4,\n",
       " 5,\n",
       " 6,\n",
       " 7,\n",
       " 8,\n",
       " 9,\n",
       " 10,\n",
       " 11,\n",
       " 12,\n",
       " 13,\n",
       " 14,\n",
       " 15,\n",
       " 16,\n",
       " 17,\n",
       " 18,\n",
       " 19,\n",
       " 20,\n",
       " 21,\n",
       " 22,\n",
       " 23,\n",
       " 24]"
      ]
     },
     "execution_count": 200,
     "metadata": {},
     "output_type": "execute_result"
    }
   ],
   "source": [
    "list(mesh.faces())"
   ]
  },
  {
   "cell_type": "code",
   "execution_count": 201,
   "metadata": {},
   "outputs": [
    {
     "data": {
      "text/plain": [
       "[(0, 1),\n",
       " (0, 6),\n",
       " (1, 7),\n",
       " (1, 2),\n",
       " (2, 8),\n",
       " (2, 3),\n",
       " (3, 9),\n",
       " (3, 4),\n",
       " (4, 10),\n",
       " (4, 5),\n",
       " (5, 11),\n",
       " (6, 7),\n",
       " (6, 12),\n",
       " (7, 8),\n",
       " (7, 13),\n",
       " (8, 9),\n",
       " (8, 14),\n",
       " (9, 10),\n",
       " (9, 15),\n",
       " (10, 11),\n",
       " (10, 16),\n",
       " (11, 17),\n",
       " (12, 13),\n",
       " (12, 18),\n",
       " (13, 14),\n",
       " (13, 19),\n",
       " (14, 15),\n",
       " (14, 20),\n",
       " (15, 16),\n",
       " (15, 21),\n",
       " (16, 17),\n",
       " (16, 22),\n",
       " (17, 23),\n",
       " (18, 19),\n",
       " (18, 24),\n",
       " (19, 20),\n",
       " (19, 25),\n",
       " (20, 21),\n",
       " (20, 26),\n",
       " (21, 22),\n",
       " (21, 27),\n",
       " (22, 23),\n",
       " (22, 28),\n",
       " (23, 29),\n",
       " (24, 25),\n",
       " (24, 30),\n",
       " (25, 26),\n",
       " (25, 31),\n",
       " (26, 27),\n",
       " (26, 32),\n",
       " (27, 28),\n",
       " (27, 33),\n",
       " (28, 29),\n",
       " (28, 34),\n",
       " (29, 35),\n",
       " (30, 31),\n",
       " (31, 32),\n",
       " (32, 33),\n",
       " (33, 34),\n",
       " (34, 35)]"
      ]
     },
     "execution_count": 201,
     "metadata": {},
     "output_type": "execute_result"
    }
   ],
   "source": [
    "list(mesh.edges())"
   ]
  },
  {
   "cell_type": "markdown",
   "metadata": {},
   "source": [
    "### Traversal"
   ]
  },
  {
   "cell_type": "code",
   "execution_count": 202,
   "metadata": {},
   "outputs": [
    {
     "name": "stdout",
     "output_type": "stream",
     "text": [
      "0 (neighbors) [6, 1]\n",
      "0 (faces) [0]\n",
      "\n",
      "1 (neighbors) [0, 7, 2]\n",
      "1 (faces) [0, 1]\n",
      "\n",
      "2 (neighbors) [1, 8, 3]\n",
      "2 (faces) [1, 2]\n",
      "\n",
      "3 (neighbors) [2, 9, 4]\n",
      "3 (faces) [2, 3]\n",
      "\n",
      "4 (neighbors) [3, 10, 5]\n",
      "4 (faces) [3, 4]\n",
      "\n",
      "5 (neighbors) [4, 11]\n",
      "5 (faces) [4]\n",
      "\n",
      "6 (neighbors) [12, 7, 0]\n",
      "6 (faces) [5, 0]\n",
      "\n",
      "7 (neighbors) [1, 6, 13, 8]\n",
      "7 (faces) [1, 0, 5, 6]\n",
      "\n",
      "8 (neighbors) [2, 7, 14, 9]\n",
      "8 (faces) [2, 1, 6, 7]\n",
      "\n",
      "9 (neighbors) [3, 8, 15, 10]\n",
      "9 (faces) [3, 2, 7, 8]\n",
      "\n",
      "10 (neighbors) [4, 9, 16, 11]\n",
      "10 (faces) [4, 3, 8, 9]\n",
      "\n",
      "11 (neighbors) [5, 10, 17]\n",
      "11 (faces) [4, 9]\n",
      "\n",
      "12 (neighbors) [18, 13, 6]\n",
      "12 (faces) [10, 5]\n",
      "\n",
      "13 (neighbors) [7, 12, 19, 14]\n",
      "13 (faces) [6, 5, 10, 11]\n",
      "\n",
      "14 (neighbors) [8, 13, 20, 15]\n",
      "14 (faces) [7, 6, 11, 12]\n",
      "\n",
      "15 (neighbors) [9, 14, 21, 16]\n",
      "15 (faces) [8, 7, 12, 13]\n",
      "\n",
      "16 (neighbors) [10, 15, 22, 17]\n",
      "16 (faces) [9, 8, 13, 14]\n",
      "\n",
      "17 (neighbors) [11, 16, 23]\n",
      "17 (faces) [9, 14]\n",
      "\n",
      "18 (neighbors) [24, 19, 12]\n",
      "18 (faces) [15, 10]\n",
      "\n",
      "19 (neighbors) [13, 18, 25, 20]\n",
      "19 (faces) [11, 10, 15, 16]\n",
      "\n",
      "20 (neighbors) [14, 19, 26, 21]\n",
      "20 (faces) [12, 11, 16, 17]\n",
      "\n",
      "21 (neighbors) [15, 20, 27, 22]\n",
      "21 (faces) [13, 12, 17, 18]\n",
      "\n",
      "22 (neighbors) [16, 21, 28, 23]\n",
      "22 (faces) [14, 13, 18, 19]\n",
      "\n",
      "23 (neighbors) [17, 22, 29]\n",
      "23 (faces) [14, 19]\n",
      "\n",
      "24 (neighbors) [30, 25, 18]\n",
      "24 (faces) [20, 15]\n",
      "\n",
      "25 (neighbors) [19, 24, 31, 26]\n",
      "25 (faces) [16, 15, 20, 21]\n",
      "\n",
      "26 (neighbors) [20, 25, 32, 27]\n",
      "26 (faces) [17, 16, 21, 22]\n",
      "\n",
      "27 (neighbors) [21, 26, 33, 28]\n",
      "27 (faces) [18, 17, 22, 23]\n",
      "\n",
      "28 (neighbors) [22, 27, 34, 29]\n",
      "28 (faces) [19, 18, 23, 24]\n",
      "\n",
      "29 (neighbors) [23, 28, 35]\n",
      "29 (faces) [19, 24]\n",
      "\n",
      "30 (neighbors) [31, 24]\n",
      "30 (faces) [20]\n",
      "\n",
      "31 (neighbors) [32, 25, 30]\n",
      "31 (faces) [21, 20]\n",
      "\n",
      "32 (neighbors) [33, 26, 31]\n",
      "32 (faces) [22, 21]\n",
      "\n",
      "33 (neighbors) [34, 27, 32]\n",
      "33 (faces) [23, 22]\n",
      "\n",
      "34 (neighbors) [35, 28, 33]\n",
      "34 (faces) [24, 23]\n",
      "\n",
      "35 (neighbors) [29, 34]\n",
      "35 (faces) [24]\n",
      "\n"
     ]
    }
   ],
   "source": [
    "for key in mesh.vertices():\n",
    "    print(key, \"(neighbors)\", mesh.vertex_neighbors(key, ordered=True))\n",
    "    print(key, \"(faces)\", mesh.vertex_faces(key, ordered=True))\n",
    "    print()"
   ]
  },
  {
   "cell_type": "code",
   "execution_count": 203,
   "metadata": {},
   "outputs": [
    {
     "name": "stdout",
     "output_type": "stream",
     "text": [
      "0 (vertices) [0, 1, 7, 6]\n",
      "0 (half-edges) [(0, 1), (1, 7), (7, 6), (6, 0)]\n",
      "0 (neighbors) [1, 5]\n",
      "\n",
      "1 (vertices) [1, 2, 8, 7]\n",
      "1 (half-edges) [(1, 2), (2, 8), (8, 7), (7, 1)]\n",
      "1 (neighbors) [2, 6, 0]\n",
      "\n",
      "2 (vertices) [2, 3, 9, 8]\n",
      "2 (half-edges) [(2, 3), (3, 9), (9, 8), (8, 2)]\n",
      "2 (neighbors) [3, 7, 1]\n",
      "\n",
      "3 (vertices) [3, 4, 10, 9]\n",
      "3 (half-edges) [(3, 4), (4, 10), (10, 9), (9, 3)]\n",
      "3 (neighbors) [4, 8, 2]\n",
      "\n",
      "4 (vertices) [4, 5, 11, 10]\n",
      "4 (half-edges) [(4, 5), (5, 11), (11, 10), (10, 4)]\n",
      "4 (neighbors) [9, 3]\n",
      "\n",
      "5 (vertices) [6, 7, 13, 12]\n",
      "5 (half-edges) [(6, 7), (7, 13), (13, 12), (12, 6)]\n",
      "5 (neighbors) [0, 6, 10]\n",
      "\n",
      "6 (vertices) [7, 8, 14, 13]\n",
      "6 (half-edges) [(7, 8), (8, 14), (14, 13), (13, 7)]\n",
      "6 (neighbors) [1, 7, 11, 5]\n",
      "\n",
      "7 (vertices) [8, 9, 15, 14]\n",
      "7 (half-edges) [(8, 9), (9, 15), (15, 14), (14, 8)]\n",
      "7 (neighbors) [2, 8, 12, 6]\n",
      "\n",
      "8 (vertices) [9, 10, 16, 15]\n",
      "8 (half-edges) [(9, 10), (10, 16), (16, 15), (15, 9)]\n",
      "8 (neighbors) [3, 9, 13, 7]\n",
      "\n",
      "9 (vertices) [10, 11, 17, 16]\n",
      "9 (half-edges) [(10, 11), (11, 17), (17, 16), (16, 10)]\n",
      "9 (neighbors) [4, 14, 8]\n",
      "\n",
      "10 (vertices) [12, 13, 19, 18]\n",
      "10 (half-edges) [(12, 13), (13, 19), (19, 18), (18, 12)]\n",
      "10 (neighbors) [5, 11, 15]\n",
      "\n",
      "11 (vertices) [13, 14, 20, 19]\n",
      "11 (half-edges) [(13, 14), (14, 20), (20, 19), (19, 13)]\n",
      "11 (neighbors) [6, 12, 16, 10]\n",
      "\n",
      "12 (vertices) [14, 15, 21, 20]\n",
      "12 (half-edges) [(14, 15), (15, 21), (21, 20), (20, 14)]\n",
      "12 (neighbors) [7, 13, 17, 11]\n",
      "\n",
      "13 (vertices) [15, 16, 22, 21]\n",
      "13 (half-edges) [(15, 16), (16, 22), (22, 21), (21, 15)]\n",
      "13 (neighbors) [8, 14, 18, 12]\n",
      "\n",
      "14 (vertices) [16, 17, 23, 22]\n",
      "14 (half-edges) [(16, 17), (17, 23), (23, 22), (22, 16)]\n",
      "14 (neighbors) [9, 19, 13]\n",
      "\n",
      "15 (vertices) [18, 19, 25, 24]\n",
      "15 (half-edges) [(18, 19), (19, 25), (25, 24), (24, 18)]\n",
      "15 (neighbors) [10, 16, 20]\n",
      "\n",
      "16 (vertices) [19, 20, 26, 25]\n",
      "16 (half-edges) [(19, 20), (20, 26), (26, 25), (25, 19)]\n",
      "16 (neighbors) [11, 17, 21, 15]\n",
      "\n",
      "17 (vertices) [20, 21, 27, 26]\n",
      "17 (half-edges) [(20, 21), (21, 27), (27, 26), (26, 20)]\n",
      "17 (neighbors) [12, 18, 22, 16]\n",
      "\n",
      "18 (vertices) [21, 22, 28, 27]\n",
      "18 (half-edges) [(21, 22), (22, 28), (28, 27), (27, 21)]\n",
      "18 (neighbors) [13, 19, 23, 17]\n",
      "\n",
      "19 (vertices) [22, 23, 29, 28]\n",
      "19 (half-edges) [(22, 23), (23, 29), (29, 28), (28, 22)]\n",
      "19 (neighbors) [14, 24, 18]\n",
      "\n",
      "20 (vertices) [24, 25, 31, 30]\n",
      "20 (half-edges) [(24, 25), (25, 31), (31, 30), (30, 24)]\n",
      "20 (neighbors) [15, 21]\n",
      "\n",
      "21 (vertices) [25, 26, 32, 31]\n",
      "21 (half-edges) [(25, 26), (26, 32), (32, 31), (31, 25)]\n",
      "21 (neighbors) [16, 22, 20]\n",
      "\n",
      "22 (vertices) [26, 27, 33, 32]\n",
      "22 (half-edges) [(26, 27), (27, 33), (33, 32), (32, 26)]\n",
      "22 (neighbors) [17, 23, 21]\n",
      "\n",
      "23 (vertices) [27, 28, 34, 33]\n",
      "23 (half-edges) [(27, 28), (28, 34), (34, 33), (33, 27)]\n",
      "23 (neighbors) [18, 24, 22]\n",
      "\n",
      "24 (vertices) [28, 29, 35, 34]\n",
      "24 (half-edges) [(28, 29), (29, 35), (35, 34), (34, 28)]\n",
      "24 (neighbors) [19, 23]\n",
      "\n"
     ]
    }
   ],
   "source": [
    "for fkey in mesh.faces():\n",
    "    print(fkey, \"(vertices)\", mesh.face_vertices(fkey))\n",
    "    print(fkey, \"(half-edges)\", mesh.face_halfedges(fkey))\n",
    "    print(fkey, \"(neighbors)\", mesh.face_neighbors(fkey))\n",
    "    print()"
   ]
  },
  {
   "cell_type": "markdown",
   "metadata": {},
   "source": [
    "## Attributes\n",
    "\n",
    "All vertices, faces, and edges automatically have the default attributes specified by the mesh class. The default vertex attributes are xyz coordinates, with ``x=0``, ``y=0``, and ``z=0``. Edges and faces have no default attributes.\n",
    "\n",
    "To change the default attributes, do:"
   ]
  },
  {
   "cell_type": "code",
   "execution_count": 204,
   "metadata": {},
   "outputs": [],
   "source": [
    "mesh.update_default_vertex_attributes(z=10, is_fixed=False)"
   ]
  },
  {
   "cell_type": "code",
   "execution_count": 205,
   "metadata": {
    "collapsed": true
   },
   "outputs": [],
   "source": [
    "mesh.update_default_face_attributes(is_loaded=True)"
   ]
  },
  {
   "cell_type": "code",
   "execution_count": 206,
   "metadata": {
    "collapsed": true
   },
   "outputs": [],
   "source": [
    "mesh.update_default_edge_attributes(q=1.0)"
   ]
  },
  {
   "cell_type": "markdown",
   "metadata": {},
   "source": [
    "### Getting attributes"
   ]
  },
  {
   "cell_type": "code",
   "execution_count": 207,
   "metadata": {},
   "outputs": [
    {
     "data": {
      "text/plain": [
       "10.0"
      ]
     },
     "execution_count": 207,
     "metadata": {},
     "output_type": "execute_result"
    }
   ],
   "source": [
    "mesh.get_vertex_attribute(mesh.get_any_vertex(), 'x')"
   ]
  },
  {
   "cell_type": "code",
   "execution_count": 208,
   "metadata": {},
   "outputs": [
    {
     "data": {
      "text/plain": [
       "[0.0,\n",
       " 2.0,\n",
       " 4.0,\n",
       " 6.0,\n",
       " 8.0,\n",
       " 10.0,\n",
       " 0.0,\n",
       " 2.0,\n",
       " 4.0,\n",
       " 6.0,\n",
       " 8.0,\n",
       " 10.0,\n",
       " 0.0,\n",
       " 2.0,\n",
       " 4.0,\n",
       " 6.0,\n",
       " 8.0,\n",
       " 10.0,\n",
       " 0.0,\n",
       " 2.0,\n",
       " 4.0,\n",
       " 6.0,\n",
       " 8.0,\n",
       " 10.0,\n",
       " 0.0,\n",
       " 2.0,\n",
       " 4.0,\n",
       " 6.0,\n",
       " 8.0,\n",
       " 10.0,\n",
       " 0.0,\n",
       " 2.0,\n",
       " 4.0,\n",
       " 6.0,\n",
       " 8.0,\n",
       " 10.0]"
      ]
     },
     "execution_count": 208,
     "metadata": {},
     "output_type": "execute_result"
    }
   ],
   "source": [
    "mesh.get_vertices_attribute('x')"
   ]
  },
  {
   "cell_type": "code",
   "execution_count": 209,
   "metadata": {},
   "outputs": [
    {
     "data": {
      "text/plain": [
       "[[0.0, 0.0, 0.0],\n",
       " [2.0, 0.0, 0.0],\n",
       " [4.0, 0.0, 0.0],\n",
       " [6.0, 0.0, 0.0],\n",
       " [8.0, 0.0, 0.0],\n",
       " [10.0, 0.0, 0.0],\n",
       " [0.0, 2.0, 0.0],\n",
       " [2.0, 2.0, 0.0],\n",
       " [4.0, 2.0, 0.0],\n",
       " [6.0, 2.0, 0.0],\n",
       " [8.0, 2.0, 0.0],\n",
       " [10.0, 2.0, 0.0],\n",
       " [0.0, 4.0, 0.0],\n",
       " [2.0, 4.0, 0.0],\n",
       " [4.0, 4.0, 0.0],\n",
       " [6.0, 4.0, 0.0],\n",
       " [8.0, 4.0, 0.0],\n",
       " [10.0, 4.0, 0.0],\n",
       " [0.0, 6.0, 0.0],\n",
       " [2.0, 6.0, 0.0],\n",
       " [4.0, 6.0, 0.0],\n",
       " [6.0, 6.0, 0.0],\n",
       " [8.0, 6.0, 0.0],\n",
       " [10.0, 6.0, 0.0],\n",
       " [0.0, 8.0, 0.0],\n",
       " [2.0, 8.0, 0.0],\n",
       " [4.0, 8.0, 0.0],\n",
       " [6.0, 8.0, 0.0],\n",
       " [8.0, 8.0, 0.0],\n",
       " [10.0, 8.0, 0.0],\n",
       " [0.0, 10.0, 0.0],\n",
       " [2.0, 10.0, 0.0],\n",
       " [4.0, 10.0, 0.0],\n",
       " [6.0, 10.0, 0.0],\n",
       " [8.0, 10.0, 0.0],\n",
       " [10.0, 10.0, 0.0]]"
      ]
     },
     "execution_count": 209,
     "metadata": {},
     "output_type": "execute_result"
    }
   ],
   "source": [
    "mesh.get_vertices_attributes('xyz')"
   ]
  },
  {
   "cell_type": "markdown",
   "metadata": {},
   "source": [
    "### Setting attributes"
   ]
  },
  {
   "cell_type": "code",
   "execution_count": 210,
   "metadata": {
    "collapsed": true
   },
   "outputs": [],
   "source": [
    "mesh.set_vertex_attribute(0, 'is_fixed', True)"
   ]
  },
  {
   "cell_type": "code",
   "execution_count": 211,
   "metadata": {
    "collapsed": true
   },
   "outputs": [],
   "source": [
    "mesh.set_vertex_attributes(0, ('is_fixed', 'z'), (False, 10))"
   ]
  },
  {
   "cell_type": "code",
   "execution_count": 212,
   "metadata": {
    "collapsed": true
   },
   "outputs": [],
   "source": [
    "mesh.set_vertices_attribute('z', 10)"
   ]
  },
  {
   "cell_type": "code",
   "execution_count": 213,
   "metadata": {
    "collapsed": true
   },
   "outputs": [],
   "source": [
    "mesh.set_vertices_attributes(('z', 'is_fixed'), (0, False))"
   ]
  },
  {
   "cell_type": "markdown",
   "metadata": {},
   "source": [
    "## Serialisation"
   ]
  },
  {
   "cell_type": "markdown",
   "metadata": {},
   "source": [
    "### Raw data"
   ]
  },
  {
   "cell_type": "code",
   "execution_count": 214,
   "metadata": {},
   "outputs": [],
   "source": [
    "data = mesh.to_data()"
   ]
  },
  {
   "cell_type": "code",
   "execution_count": 215,
   "metadata": {},
   "outputs": [],
   "source": [
    "mesh = Mesh.from_data(data)"
   ]
  },
  {
   "cell_type": "markdown",
   "metadata": {},
   "source": [
    "### Json"
   ]
  },
  {
   "cell_type": "code",
   "execution_count": 216,
   "metadata": {
    "collapsed": true
   },
   "outputs": [],
   "source": [
    "mesh.to_json('mesh.json')"
   ]
  },
  {
   "cell_type": "code",
   "execution_count": 217,
   "metadata": {
    "collapsed": true
   },
   "outputs": [],
   "source": [
    "mesh = Mesh.from_json('mesh.json')"
   ]
  },
  {
   "cell_type": "markdown",
   "metadata": {},
   "source": [
    "### Pickle"
   ]
  },
  {
   "cell_type": "code",
   "execution_count": 218,
   "metadata": {
    "collapsed": true
   },
   "outputs": [],
   "source": [
    "mesh.dump('mesh.pickle')"
   ]
  },
  {
   "cell_type": "code",
   "execution_count": 219,
   "metadata": {
    "collapsed": true
   },
   "outputs": [],
   "source": [
    "s = mesh.dumps()"
   ]
  },
  {
   "cell_type": "code",
   "execution_count": 220,
   "metadata": {
    "collapsed": true
   },
   "outputs": [],
   "source": [
    "mesh.load('mesh.pickle')"
   ]
  },
  {
   "cell_type": "code",
   "execution_count": 221,
   "metadata": {
    "collapsed": true
   },
   "outputs": [],
   "source": [
    "mesh.loads(s)"
   ]
  },
  {
   "cell_type": "markdown",
   "metadata": {},
   "source": [
    "## Visualisation"
   ]
  },
  {
   "cell_type": "code",
   "execution_count": 222,
   "metadata": {},
   "outputs": [
    {
     "data": {
      "image/png": "[encoded data removed]",
      "text/plain": [
       "<matplotlib.figure.Figure at 0x61767c048>"
      ]
     },
     "metadata": {},
     "output_type": "display_data"
    }
   ],
   "source": [
    "from compas.plotters import MeshPlotter\n",
    "\n",
    "plotter = MeshPlotter(mesh)\n",
    "\n",
    "plotter.draw_vertices(\n",
    "    facecolor={key: '#ff0000' for key in mesh.vertices_on_boundary()},\n",
    "    radius={key: 0.3 for key in mesh.vertices_on_boundary()},\n",
    "    text={key: str(key) for key in mesh.vertices_on_boundary()}\n",
    ")\n",
    "plotter.draw_edges(\n",
    "    color={key: '#00ff00' for key in mesh.edges_on_boundary()},\n",
    "    width={key: 3 for key in mesh.edges_on_boundary()}\n",
    ")\n",
    "plotter.draw_faces(\n",
    "    text={key: str(key) for key in mesh.faces_on_boundary()}\n",
    ")\n",
    "\n",
    "plotter.show()"
   ]
  }
 ],
 "metadata": {
  "kernelspec": {
   "display_name": "Python 3",
   "language": "python",
   "name": "python3"
  },
  "language_info": {
   "codemirror_mode": {
    "name": "ipython",
    "version": 3
   },
   "file_extension": ".py",
   "mimetype": "text/x-python",
   "name": "python",
   "nbconvert_exporter": "python",
   "pygments_lexer": "ipython3",
   "version": "3.6.3"
  }
 },
 "nbformat": 4,
 "nbformat_minor": 2
}
